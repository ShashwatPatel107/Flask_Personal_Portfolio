{
  "nbformat": 4,
  "nbformat_minor": 0,
  "metadata": {
    "colab": {
      "provenance": [],
      "mount_file_id": "1ZsU5dX0SoVZf0XLkM_6K6fsVclfLxYMq",
      "authorship_tag": "ABX9TyPh5M/fyw7xp3od7OYC4vZx",
      "include_colab_link": true
    },
    "kernelspec": {
      "name": "python3",
      "display_name": "Python 3"
    },
    "language_info": {
      "name": "python"
    }
  },
  "cells": [
    {
      "cell_type": "markdown",
      "metadata": {
        "id": "view-in-github",
        "colab_type": "text"
      },
      "source": [
        "<a href=\"https://colab.research.google.com/github/ShashwatPatel107/Flask_Personal_Portfolio/blob/main/DVA_PROJECT.ipynb\" target=\"_parent\"><img src=\"https://colab.research.google.com/assets/colab-badge.svg\" alt=\"Open In Colab\"/></a>"
      ]
    },
    {
      "cell_type": "markdown",
      "source": [
        "# 8 Charts:\n",
        "1.   Rating vs downloads\n",
        "1.   catogary downloads (Pie)\n",
        "1.   Size/cato (scatter)\n",
        "1.   Editor Choice's downloads(horizontal bar)\n",
        "2.   mininum android (Histo)\n",
        "2.   rating/cato (bar)\n",
        "2.   min_android, price, size, color-cato (scatter)\n",
        "2.   Wordcloud (App Name)\n",
        "\n",
        "\n",
        "x= releas year  y = downloads\n",
        "\n",
        "# 8 Questions:\n",
        "1.   What are the top Catogaries...\n",
        "> * catogary downloads (Radial bar plot)\n",
        "\n",
        "1.   Does Money affect downloads?\n",
        "> * free & paid (Line)\n",
        "\n",
        "1.  Which catogory have more higest rating apps\n",
        "> * catogary rating (hori bar)\n",
        "\n",
        "1.   Who are the top developers\n",
        "> * catogary downloads (Pie)\n",
        "\n",
        "2.   Which catogary have most free vs paid apps\n",
        "> * catogary downloads (bar)\n",
        "\n",
        "2.  does ED'S choice make any difference on downloads?\n",
        "> * Editor Choice's downloads(scatter)/ heatmap\n",
        "\n",
        "2.   \n",
        "> * min_android, price, size, color-cato (correlogram)\n",
        "\n",
        "2.   \n",
        "> * mininum android (Histo)\n",
        "\n",
        "rating count // rating(Scatter)\n",
        "\n",
        "\n",
        "\n",
        "\n",
        "Heatmap\n",
        "Radial bar plot\n",
        "correlogram\n",
        "sunbrust"
      ],
      "metadata": {
        "id": "D1SFpRGyp0LG"
      }
    },
    {
      "cell_type": "markdown",
      "source": [
        "# Data Visualization and Analysis Project\n",
        "\n",
        "\n",
        "# GOOGLE PLAYSTORE APPS"
      ],
      "metadata": {
        "id": "UhlZ_1Pv3YF4"
      }
    },
    {
      "cell_type": "markdown",
      "source": [
        "# INTRODUCTION"
      ],
      "metadata": {
        "id": "odjRjK_K_wpn"
      }
    },
    {
      "cell_type": "markdown",
      "source": [
        "### What is Data Analysis. \n",
        "Data analysis is a process of inspecting, cleansing, transforming, and modeling data with the goal of discovering useful information, informing conclusions, and supporting decision-making"
      ],
      "metadata": {
        "id": "d_qEl6rEv80t"
      }
    },
    {
      "cell_type": "markdown",
      "source": [
        "\n",
        "### What is Data Visualization?\n",
        "Data Visulization is a graphical representation of a given information and data. Visulization tools like charts Graphs and maps, it provides an excellent way for employees or business owners to present data to non-technical audiences without confusion by see and understand trends, outliers, and patterns in data."
      ],
      "metadata": {
        "id": "bgoO-Ndn7ET6"
      }
    },
    {
      "cell_type": "markdown",
      "source": [
        "### About Google/Android/Playstore\n",
        "Google:\n",
        "\n",
        "Google is a USA based Tech company.\n",
        "It is referred as \"The most powerful company in the world.\" It has multiple domain in different Search Engine, AI, Mobile OS, Advertising, Cloud and so much more.\n",
        "\n",
        "Android:\n",
        "\n",
        "Android is Open-Source Linux kernal modified based Mobile Operationg Syatem. It's main device is Smartphones but not limited to Smartphones.\n",
        "\n",
        "Playstore:\n",
        "\n",
        "Playstore is serves as the official app store for certified devices running on the Android operating system. It released on Oct/22/2008.\n",
        "\n",
        "* 6.8 Billion smartphones are in the world.\n",
        "* Playstore have 2.7M apps\n",
        "* 70% Downloads of total Mobile Apps by Playstore.  \n"
      ],
      "metadata": {
        "id": "n0o9Q26S7ZnK"
      }
    },
    {
      "cell_type": "markdown",
      "source": [
        "###   what this project will do?(Purpose)\n",
        "\n",
        "Purpose of the project is to analysis and visualize data of different apps that has been downloaded from google Play Store.\n",
        "By the Analysis and Visualization developer and business Community might get batter insite of the Consumer’s mindset and able to create more useful and profitable apps. "
      ],
      "metadata": {
        "id": "CSEeb6527G-8"
      }
    },
    {
      "cell_type": "markdown",
      "source": [
        "### Objective"
      ],
      "metadata": {
        "id": "Fc1YuNsW7Y7h"
      }
    },
    {
      "cell_type": "markdown",
      "source": [
        "### Outline"
      ],
      "metadata": {
        "id": "-VNrlIgr7Ymy"
      }
    },
    {
      "cell_type": "markdown",
      "source": [
        "### Sample output \n",
        "(Put Dashboard here)"
      ],
      "metadata": {
        "id": "cumkikvO7YcR"
      }
    },
    {
      "cell_type": "markdown",
      "source": [
        "Tableau\n",
        "\n",
        "Pandas\n",
        "\n",
        "Matplotlib\n",
        "\n",
        "Seaborn\n",
        "\n",
        "Plotly\n",
        "opendata\n",
        "\n",
        "go"
      ],
      "metadata": {
        "id": "3rQ7j9rV3jIa"
      }
    },
    {
      "cell_type": "markdown",
      "source": [
        "# Dataset's Link and credit\n",
        "[DATASET](https://www.kaggle.com/datasets/gauthamp10/google-playstore-apps)\n",
        "\n",
        "\n",
        "This files contains Application data of more than 2.3M applications with the following 23 attributes.-\n",
        "\n",
        "* App Name\n",
        "* App Id *\n",
        "* Category\n",
        "* Rating\n",
        "* Rating Count\n",
        "* Installs\n",
        "* Minimum Installs\n",
        "* Maximum Installs\n",
        "* Free\n",
        "* Price\n",
        "* Currency\n",
        "* Size\n",
        "* Minimum Android\n",
        "* Developer Id *\n",
        "* Developer Website *\n",
        "* Developer Email *\n",
        "* Released\n",
        "* Privacy Policy *\n",
        "* Last Updated\n",
        "* Content Rating\n",
        "* Ad Supported\n",
        "* In app purchases\n",
        "* Editor Choice"
      ],
      "metadata": {
        "id": "Ejbu1Tkv4AZF"
      }
    },
    {
      "cell_type": "markdown",
      "source": [
        "Steps for Data Visulization and Analysis\n",
        "\n",
        "\n",
        "*   Import Files\n",
        "*   Create DataFrame\n",
        "*   Data Cleaning\n",
        "*   Data Analysis\n",
        "*   Create Visulization   \n",
        "*   Dash board"
      ],
      "metadata": {
        "id": "wQ5-dFQmN8F3"
      }
    },
    {
      "cell_type": "markdown",
      "source": [
        "# STEP_1 DATA COLLECTION \n",
        "(IMPORTING FILES)"
      ],
      "metadata": {
        "id": "5tcOEqni_96l"
      }
    },
    {
      "cell_type": "markdown",
      "source": [
        "## Downloading Dataset"
      ],
      "metadata": {
        "id": "d3VycpAIXr-V"
      }
    },
    {
      "cell_type": "code",
      "source": [
        "# Download Dataset from internet\n",
        "! pip install opendatasets --quiet\n",
        "import opendatasets as od \n",
        "dataset_url = 'https://www.kaggle.com/datasets/gauthamp10/google-playstore-apps'\n",
        "od.download(dataset_url)"
      ],
      "metadata": {
        "id": "Ysxc5gMKyzA0"
      },
      "execution_count": null,
      "outputs": []
    },
    {
      "cell_type": "markdown",
      "source": [
        "## Preparing DataFrame"
      ],
      "metadata": {
        "id": "hh2WF3-KXnIY"
      }
    },
    {
      "cell_type": "code",
      "execution_count": 5,
      "metadata": {
        "id": "NRhSVsarwX1z"
      },
      "outputs": [],
      "source": [
        "# Importing Necessary Libraries\n",
        "import pandas as pd\n",
        "import glob\n",
        "import numpy as np\n",
        "import plotly.express as px"
      ]
    },
    {
      "cell_type": "code",
      "source": [
        "df_url = \"/content/google-playstore-apps/Google-Playstore.csv\""
      ],
      "metadata": {
        "id": "oTGNYWMtT3gB"
      },
      "execution_count": 6,
      "outputs": []
    },
    {
      "cell_type": "code",
      "source": [
        "%%time\n",
        "# Creating List of Columns\n",
        "lists = [\"App Name\", \"Category\", \"Rating\",\"Rating Count\",\n",
        "         'Installs', 'Free', 'Price', 'Size', 'Minimum Android',\n",
        "         'Developer Id', 'Released', 'Content Rating', 'Editors Choice']\n",
        "\n",
        "# Create new dataframe with only necessary columns         \n",
        "df = pd.read_csv(df_url, usecols= lists )"
      ],
      "metadata": {
        "colab": {
          "base_uri": "https://localhost:8080/"
        },
        "id": "BC8Usybs659E",
        "outputId": "66c5f16e-7086-422e-e7b0-061d4459cd97"
      },
      "execution_count": 44,
      "outputs": [
        {
          "output_type": "stream",
          "name": "stdout",
          "text": [
            "CPU times: user 10.9 s, sys: 920 ms, total: 11.8 s\n",
            "Wall time: 12.6 s\n"
          ]
        }
      ]
    },
    {
      "cell_type": "code",
      "source": [
        "# df.isna().sum()"
      ],
      "metadata": {
        "id": "QXVwCdLMyK49"
      },
      "execution_count": 5,
      "outputs": []
    },
    {
      "cell_type": "code",
      "source": [
        "# replace +\n",
        "Install = df[\"Installs\"].str.replace(\"+\",\"\") # removed + from behind\n",
        "\n",
        "# df[\"Installs\"].replace(Install, inplace = True)"
      ],
      "metadata": {
        "colab": {
          "base_uri": "https://localhost:8080/"
        },
        "id": "Ix2KXXQIsBaZ",
        "outputId": "b272e734-c4d7-4848-e5a1-d76de975906b"
      },
      "execution_count": 45,
      "outputs": [
        {
          "output_type": "stream",
          "name": "stderr",
          "text": [
            "<ipython-input-45-f0a6fe805db3>:2: FutureWarning: The default value of regex will change from True to False in a future version. In addition, single character regular expressions will *not* be treated as literal strings when regex=True.\n",
            "  Install = df[\"Installs\"].str.replace(\"+\",\"\") # removed + from behind\n"
          ]
        }
      ]
    },
    {
      "cell_type": "code",
      "source": [
        "# Convert Datatype of columns\n",
        "selected_dtypes = {\"Rating\" : \"float32\",\n",
        "                  \"Price\" : \"float32\",\n",
        "                  \"Content Rating\": \"category\",\n",
        "                  \"Minimum Android\": \"category\",\n",
        "                  \"Category\": \"category\",\n",
        "                  \"Rating\": \"category\",\n",
        "                  # \"Installs\": \"float32\"\n",
        "                  }\n",
        "\n",
        "df = df.astype(selected_dtypes)                "
      ],
      "metadata": {
        "id": "p0No-THdTg3o"
      },
      "execution_count": 46,
      "outputs": []
    },
    {
      "cell_type": "code",
      "source": [
        "%%time\n",
        "# Convert CSV to feather for faster access\n",
        "df.to_feather(\"df.feather\")\n",
        "df_feather = pd.read_feather(\"df.feather\")"
      ],
      "metadata": {
        "colab": {
          "base_uri": "https://localhost:8080/"
        },
        "id": "iGMs3zDFYfB2",
        "outputId": "5c258355-d27b-470c-bcd9-340a49d8bd2c"
      },
      "execution_count": 47,
      "outputs": [
        {
          "output_type": "stream",
          "name": "stdout",
          "text": [
            "CPU times: user 2.82 s, sys: 1.31 s, total: 4.13 s\n",
            "Wall time: 3.68 s\n"
          ]
        }
      ]
    },
    {
      "cell_type": "code",
      "source": [
        "%%time\n",
        "# Start working with 1000 rows of data to save loading time\n",
        "df = df_feather.head(1000)"
      ],
      "metadata": {
        "colab": {
          "base_uri": "https://localhost:8080/"
        },
        "id": "hxo5HpHRdERI",
        "outputId": "1eedf541-8ce4-4c5f-faa4-1e497661a892"
      },
      "execution_count": 76,
      "outputs": [
        {
          "output_type": "stream",
          "name": "stdout",
          "text": [
            "CPU times: user 318 µs, sys: 4 µs, total: 322 µs\n",
            "Wall time: 328 µs\n"
          ]
        }
      ]
    },
    {
      "cell_type": "code",
      "source": [],
      "metadata": {
        "colab": {
          "base_uri": "https://localhost:8080/"
        },
        "id": "ymhkse_WvVOS",
        "outputId": "34b7dc09-ed83-40be-d357-1f6ef1ab136c"
      },
      "execution_count": 15,
      "outputs": [
        {
          "output_type": "stream",
          "name": "stderr",
          "text": [
            "/usr/local/lib/python3.8/dist-packages/pandas/core/generic.py:6619: SettingWithCopyWarning: \n",
            "A value is trying to be set on a copy of a slice from a DataFrame\n",
            "\n",
            "See the caveats in the documentation: https://pandas.pydata.org/pandas-docs/stable/user_guide/indexing.html#returning-a-view-versus-a-copy\n",
            "  return self._update_inplace(result)\n"
          ]
        }
      ]
    },
    {
      "cell_type": "code",
      "source": [],
      "metadata": {
        "id": "p-rDR75EvUFt"
      },
      "execution_count": null,
      "outputs": []
    },
    {
      "cell_type": "code",
      "source": [
        "print(df.shape)\n",
        "print(\"\\n\\n\",df.columns)\n",
        "print(\"\\n\\n\",df.info())"
      ],
      "metadata": {
        "colab": {
          "base_uri": "https://localhost:8080/"
        },
        "id": "Z1Nnn3Vy6kxh",
        "outputId": "326b994d-0943-4fa8-d17b-05a590794416"
      },
      "execution_count": 77,
      "outputs": [
        {
          "output_type": "stream",
          "name": "stdout",
          "text": [
            "(1000, 13)\n",
            "\n",
            "\n",
            " Index(['App Name', 'Category', 'Rating', 'Rating Count', 'Installs', 'Free',\n",
            "       'Price', 'Size', 'Minimum Android', 'Developer Id', 'Released',\n",
            "       'Content Rating', 'Editors Choice'],\n",
            "      dtype='object')\n",
            "<class 'pandas.core.frame.DataFrame'>\n",
            "RangeIndex: 1000 entries, 0 to 999\n",
            "Data columns (total 13 columns):\n",
            " #   Column           Non-Null Count  Dtype   \n",
            "---  ------           --------------  -----   \n",
            " 0   App Name         1000 non-null   object  \n",
            " 1   Category         1000 non-null   category\n",
            " 2   Rating           993 non-null    category\n",
            " 3   Rating Count     993 non-null    float64 \n",
            " 4   Installs         1000 non-null   object  \n",
            " 5   Free             1000 non-null   bool    \n",
            " 6   Price            1000 non-null   float32 \n",
            " 7   Size             1000 non-null   object  \n",
            " 8   Minimum Android  996 non-null    category\n",
            " 9   Developer Id     1000 non-null   object  \n",
            " 10  Released         973 non-null    object  \n",
            " 11  Content Rating   1000 non-null   category\n",
            " 12  Editors Choice   1000 non-null   bool    \n",
            "dtypes: bool(2), category(4), float32(1), float64(1), object(5)\n",
            "memory usage: 66.0+ KB\n",
            "\n",
            "\n",
            " None\n"
          ]
        }
      ]
    },
    {
      "cell_type": "code",
      "source": [
        "# .cat.code gives a code representation of a catogarical data\n",
        "print(df[\"Category\"].cat.codes) \n",
        "\n",
        "# .cat.categories gives list of all catogaries\n",
        "print(df[\"Category\"].cat.categories)"
      ],
      "metadata": {
        "colab": {
          "base_uri": "https://localhost:8080/"
        },
        "id": "hISVFrJNjfCB",
        "outputId": "bc109dca-a3f1-4b45-d84d-9cd062a7a341"
      },
      "execution_count": 49,
      "outputs": [
        {
          "output_type": "stream",
          "name": "stdout",
          "text": [
            "0           1\n",
            "1          42\n",
            "2          33\n",
            "3          13\n",
            "4          42\n",
            "           ..\n",
            "2312939    36\n",
            "2312940    15\n",
            "2312941    15\n",
            "2312942    28\n",
            "2312943    44\n",
            "Length: 2312944, dtype: int8\n",
            "Index(['Action', 'Adventure', 'Arcade', 'Art & Design', 'Auto & Vehicles',\n",
            "       'Beauty', 'Board', 'Books & Reference', 'Business', 'Card', 'Casino',\n",
            "       'Casual', 'Comics', 'Communication', 'Dating', 'Education',\n",
            "       'Educational', 'Entertainment', 'Events', 'Finance', 'Food & Drink',\n",
            "       'Health & Fitness', 'House & Home', 'Libraries & Demo', 'Lifestyle',\n",
            "       'Maps & Navigation', 'Medical', 'Music', 'Music & Audio',\n",
            "       'News & Magazines', 'Parenting', 'Personalization', 'Photography',\n",
            "       'Productivity', 'Puzzle', 'Racing', 'Role Playing', 'Shopping',\n",
            "       'Simulation', 'Social', 'Sports', 'Strategy', 'Tools', 'Travel & Local',\n",
            "       'Trivia', 'Video Players & Editors', 'Weather', 'Word'],\n",
            "      dtype='object')\n"
          ]
        }
      ]
    },
    {
      "cell_type": "markdown",
      "source": [
        "# STEP_2 DATA REFINEMENT\n",
        "DATA MUNGING/ CLEANING"
      ],
      "metadata": {
        "id": "SPk2eASpALn5"
      }
    },
    {
      "cell_type": "markdown",
      "source": [
        "NaN Values"
      ],
      "metadata": {
        "id": "ay3aJOESjE1F"
      }
    },
    {
      "cell_type": "markdown",
      "source": [],
      "metadata": {
        "id": "jTtywTHUyjWl"
      }
    },
    {
      "cell_type": "code",
      "source": [
        "\"\"\" \n",
        "Total Missing Values By column \n",
        "\n",
        "App Name --------------2 (Remove) \n",
        "Category               0\n",
        "Rating             22883 (Ave)\n",
        "Rating Count ----- 22883 (Ave)\n",
        "Installs             107 \n",
        "Free                   0\n",
        "Price                  0\n",
        "Size                 196 (Ave)\n",
        "Minimum Android     6530 (last)\n",
        "Developer Id          33 (\"Others\")\n",
        "Released           71053 (fill-Above)\n",
        "Content Rating         0\n",
        "Editors Choice         0\n",
        "\"\"\""
      ],
      "metadata": {
        "id": "HrieNFHIzldq"
      },
      "execution_count": null,
      "outputs": []
    },
    {
      "cell_type": "code",
      "source": [
        "print(df.shape)\n",
        "df.isna().sum()"
      ],
      "metadata": {
        "id": "qi9lgIL9jD3p"
      },
      "execution_count": null,
      "outputs": []
    },
    {
      "cell_type": "code",
      "source": [
        "# Remove columns where App Name is missing\n",
        "# df[\"App Name\"].dropna(axis = 0, how = \"any\", inplace = True)\n",
        "df.dropna(subset= [\"App Name\"], axis = 0, how = \"any\", inplace = True)"
      ],
      "metadata": {
        "id": "Hlfcivw6xuyw"
      },
      "execution_count": 73,
      "outputs": []
    },
    {
      "cell_type": "code",
      "source": [
        "# Fill Average values for missing values in Rating column,\n",
        "df[\"Rating Count\"].fillna(value = (df[\"Rating Count\"].mean()), inplace = True)"
      ],
      "metadata": {
        "id": "5FBYkpZXHk-R"
      },
      "execution_count": 53,
      "outputs": []
    },
    {
      "cell_type": "code",
      "source": [
        "df[\"Installs\"].value_counts()"
      ],
      "metadata": {
        "id": "DHp_m26ylS2t"
      },
      "execution_count": null,
      "outputs": []
    },
    {
      "cell_type": "code",
      "source": [
        "# Installs\n",
        "df[\"Installs\"].fillna(method = \"ffill\", inplace =True)"
      ],
      "metadata": {
        "id": "NsohaWPbqRKN"
      },
      "execution_count": 56,
      "outputs": []
    },
    {
      "cell_type": "code",
      "source": [
        "#  Rating , Size\n",
        "df[\"Size\"].fillna(value = \"Varies with device\", inplace = True)\n",
        "\n",
        "df[\"Rating\"].fillna(value = 4.5, inplace = True)"
      ],
      "metadata": {
        "id": "hj7afYs-jrBa"
      },
      "execution_count": 57,
      "outputs": []
    },
    {
      "cell_type": "code",
      "source": [
        "# Fill minimum values for missing values in Mininum Android\n",
        "df[\"Minimum Android\"].fillna(value = \"4.1 and up\", inplace = True)"
      ],
      "metadata": {
        "id": "lXkoX_QyIFNQ"
      },
      "execution_count": 58,
      "outputs": []
    },
    {
      "cell_type": "code",
      "source": [
        "# Fill \"Others\" in Developer Id missing values\n",
        "df[\"Developer Id\"].fillna(value = \"Others\", inplace = True)"
      ],
      "metadata": {
        "id": "Pgr1S4DaIQQZ"
      },
      "execution_count": 59,
      "outputs": []
    },
    {
      "cell_type": "code",
      "source": [
        "# Fill above date in missing values for Released Column\n",
        "df[\"Released\"].fillna(method = \"ffill\" ,inplace = True)"
      ],
      "metadata": {
        "id": "IgpaHhUHIXxA"
      },
      "execution_count": 60,
      "outputs": []
    },
    {
      "cell_type": "code",
      "source": [
        "print(df.shape)\n",
        "df.isna().sum()\n",
        "# print(df.info())"
      ],
      "metadata": {
        "colab": {
          "base_uri": "https://localhost:8080/"
        },
        "id": "5-BGaHygKvxV",
        "outputId": "f8bdfcd6-667b-4f73-d9e4-31fbea9f019f"
      },
      "execution_count": 78,
      "outputs": [
        {
          "output_type": "stream",
          "name": "stdout",
          "text": [
            "(1000, 13)\n"
          ]
        },
        {
          "output_type": "execute_result",
          "data": {
            "text/plain": [
              "App Name            0\n",
              "Category            0\n",
              "Rating              7\n",
              "Rating Count        7\n",
              "Installs            0\n",
              "Free                0\n",
              "Price               0\n",
              "Size                0\n",
              "Minimum Android     4\n",
              "Developer Id        0\n",
              "Released           27\n",
              "Content Rating      0\n",
              "Editors Choice      0\n",
              "dtype: int64"
            ]
          },
          "metadata": {},
          "execution_count": 78
        }
      ]
    },
    {
      "cell_type": "markdown",
      "source": [
        "# STEP_3 DATA ANALYSING"
      ],
      "metadata": {
        "id": "S0xrHQuZARnq"
      }
    },
    {
      "cell_type": "markdown",
      "source": [
        "# STEP_4 DATA VISUALIZATION"
      ],
      "metadata": {
        "id": "yB6fFI5uAV5J"
      }
    },
    {
      "cell_type": "markdown",
      "source": [
        "#STEP_5 DASH BOARD"
      ],
      "metadata": {
        "id": "azi5SHcZAa60"
      }
    },
    {
      "cell_type": "markdown",
      "source": [
        "# CONCLUSION"
      ],
      "metadata": {
        "id": "bodK0sdjAmkq"
      }
    },
    {
      "cell_type": "markdown",
      "source": [
        "## SUMMARY"
      ],
      "metadata": {
        "id": "JMvDhvOuAedy"
      }
    },
    {
      "cell_type": "markdown",
      "source": [
        "## FUTURE WORK"
      ],
      "metadata": {
        "id": "JGRh6VeoAhln"
      }
    },
    {
      "cell_type": "markdown",
      "source": [
        "## RESOURCES\n",
        "\n",
        "*   kaggle\n",
        "*   Google\n",
        "* w3school\n",
        "* Jovian\n",
        "\n"
      ],
      "metadata": {
        "id": "m7hRhgNxB6vk"
      }
    }
  ]
}